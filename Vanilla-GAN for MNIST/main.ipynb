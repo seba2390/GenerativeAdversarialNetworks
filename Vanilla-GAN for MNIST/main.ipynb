{
 "cells": [
  {
   "cell_type": "code",
   "execution_count": null,
   "metadata": {
    "collapsed": true,
    "pycharm": {
     "name": "#%%\n"
    }
   },
   "outputs": [],
   "source": [
    "import matplotlib.pyplot as plt\n",
    "import numpy as np\n",
    "from torch.utils.data import DataLoader\n",
    "import torchvision\n",
    "from GenerativeAdversarialNetwork import GenerativeAdversarialNetwork\n",
    "import torch\n",
    "import wandb\n",
    "import os\n",
    "from Util import *\n"
   ]
  },
  {
   "cell_type": "code",
   "execution_count": null,
   "outputs": [],
   "source": [
    "# N.B. don't apply one-hot encoding on labels - we don't need them (unsupervised learning)\n",
    "# Applying ToTensor() transform to change type(data) to torch.Tensor\n",
    "my_transform_1 = torchvision.transforms.ToTensor()\n",
    "my_transforms = torchvision.transforms.Compose([my_transform_1])\n",
    "\n",
    "# Set download=True first time to acquire dataset\n",
    "_MNIST_DATASET = torchvision.datasets.MNIST(root=\"data/\",\n",
    "                                            download=False,\n",
    "                                            train=True,\n",
    "                                            transform=my_transforms)\n"
   ],
   "metadata": {
    "collapsed": false,
    "pycharm": {
     "name": "#%%\n"
    }
   }
  },
  {
   "cell_type": "code",
   "execution_count": null,
   "outputs": [],
   "source": [
    "# Picking out numbers from dataset\n",
    "numbers = [9]\n",
    "_MNIST_DATASET.data = _MNIST_DATASET.data[keep_numbers(numbers,_MNIST_DATASET)]\n",
    "_MNIST_DATASET.targets = _MNIST_DATASET.targets[keep_numbers(numbers,_MNIST_DATASET)]"
   ],
   "metadata": {
    "collapsed": false,
    "pycharm": {
     "name": "#%%\n"
    }
   }
  },
  {
   "cell_type": "code",
   "execution_count": null,
   "outputs": [],
   "source": [
    "# Configuration\n",
    "\n",
    "_USE_WANDB = True\n",
    "_DEVICE    = torch.device(\"cuda:0\" if torch.cuda.is_available() else \"cpu\")\n",
    "\n",
    "epochs      = 230\n",
    "batch_size  = 64\n",
    "sample_size = 100    # Number of random values to sample\n",
    "\n",
    "g_lr        = 1e-5 # Generator's learning rate\n",
    "d_lr        = 1e-5 # Discriminator's learning rate\n",
    "lrs = (d_lr,g_lr)\n",
    "\n",
    "g_betas     = (0.5,0.999)\n",
    "d_betas     = (0.5,0.999)\n",
    "betas       = (d_betas,g_betas)\n",
    "\n",
    "g_wd        = 0.05 # Generator's weight decay\n",
    "d_wd        = 0.05 # Discriminator's weight decay\n",
    "wds = (d_wd,g_wd)\n",
    "\n",
    "label_smooth = 0.0 # real_label=1 --> 1*(1-label_smooth), fake_label=0 --> 0+label_smooth\n",
    "\n",
    "# Setting up dataloader\n",
    "_MNIST_DATALOADER = DataLoader(_MNIST_DATASET,\n",
    "                               batch_size=batch_size,\n",
    "                               drop_last=True)\n",
    "my_net = GenerativeAdversarialNetwork()"
   ],
   "metadata": {
    "collapsed": false,
    "pycharm": {
     "name": "#%%\n"
    }
   }
  },
  {
   "cell_type": "code",
   "execution_count": null,
   "outputs": [],
   "source": [
    "config_dict = \\\n",
    "    {\n",
    "    \"Loss function\": \"Binary Cross Entropy\",\n",
    "    \"Optimizer\": \"Adam\",\n",
    "    \"Learning_rates (D, G)\": lrs,\n",
    "    \"Epochs\": epochs,\n",
    "    \"Batch_size\": _MNIST_DATALOADER.batch_size,\n",
    "    \"Weight_decays (D, G)\": wds,\n",
    "    \"D Betas\": betas[0],\n",
    "    \"G Betas\": betas[1],\n",
    "    \"One sided label smoothing\": \"1->1*(1-\"+str(label_smooth)+\")\"+\"and 0->0.0+\"+str(label_smooth),\n",
    "    \"Nr. train data points\": _MNIST_DATASET.__len__(),\n",
    "    \"Note\": \"Currently experimenting w. dropout and normalization layers as 'mode collapse' seems to keep happening.\"\n",
    "    }\n",
    "\n",
    "if _USE_WANDB:\n",
    "    run = wandb.init(project=\"Semi-working Vanilla GAN for MNIST\",\n",
    "               config=config_dict,\n",
    "               save_code=False,\n",
    "               notes=\"Problems w. mode collapse\",\n",
    "               mode=\"online\")\n",
    "\n",
    "    wandb.watch(my_net)"
   ],
   "metadata": {
    "collapsed": false,
    "pycharm": {
     "name": "#%%\n"
    }
   }
  },
  {
   "cell_type": "code",
   "execution_count": null,
   "outputs": [],
   "source": [
    "# Display random datapoint\n",
    "print(\"Initial map: \")\n",
    "rows = 2\n",
    "cols = 5\n",
    "my_net.eval()\n",
    "fig, ax = plt.subplots(rows,cols, figsize= (12,5))\n",
    "for row in range(rows):\n",
    "    for col in range(cols):\n",
    "        Z = torch.rand(size=(1,sample_size), device=_DEVICE)\n",
    "        X_hat = my_net.generator.forward(Z).reshape((28, 28)).cpu().detach().numpy()\n",
    "        ax[row][col].imshow(X_hat, cmap=\"gray\")\n",
    "plt.show()"
   ],
   "metadata": {
    "collapsed": false,
    "pycharm": {
     "name": "#%%\n"
    }
   }
  },
  {
   "cell_type": "code",
   "execution_count": null,
   "outputs": [],
   "source": [
    "my_net.train()\n",
    "d_loss, g_loss = my_net.train_network(dataloader =_MNIST_DATALOADER, lrs = lrs, wds = wds,\n",
    "                                      epochs = epochs, label_smooth = label_smooth, betas=betas,\n",
    "                                      save_images=False, use_wandb=_USE_WANDB)"
   ],
   "metadata": {
    "collapsed": false,
    "pycharm": {
     "name": "#%%\n"
    }
   }
  },
  {
   "cell_type": "code",
   "execution_count": null,
   "outputs": [],
   "source": [
    "fig, ax = plt.subplots(1,1,figsize=(5,3))\n",
    "epocs = [i for i in range(len(d_loss))]\n",
    "ax.plot(epocs,d_loss,label=\"D loss\")\n",
    "ax.plot(epocs,g_loss,label=\"G loss\")\n",
    "ax.legend()\n",
    "plt.show()"
   ],
   "metadata": {
    "collapsed": false,
    "pycharm": {
     "name": "#%%\n"
    }
   }
  },
  {
   "cell_type": "code",
   "execution_count": null,
   "outputs": [],
   "source": [
    "# Display random datapoint\n",
    "print(\"final map: \")\n",
    "rows = 2\n",
    "cols = 5\n",
    "my_net.eval()\n",
    "fig, ax = plt.subplots(rows,cols, figsize= (12,5))\n",
    "for row in range(rows):\n",
    "    for col in range(cols):\n",
    "        Z = torch.rand(size=(1,sample_size), device=_DEVICE)\n",
    "        X_hat = my_net.generator.forward(Z).reshape((28, 28)).cpu().detach().numpy()\n",
    "        ax[row][col].imshow(X_hat, cmap=\"gray\")\n",
    "plt.show()"
   ],
   "metadata": {
    "collapsed": false,
    "pycharm": {
     "name": "#%%\n"
    }
   }
  },
  {
   "cell_type": "code",
   "execution_count": null,
   "outputs": [],
   "source": [
    "# Deleting all photos\n",
    "delete_photos = False\n",
    "if delete_photos:\n",
    "    os.system(\"cd progress_pics && rm *.jpg\")"
   ],
   "metadata": {
    "collapsed": false,
    "pycharm": {
     "name": "#%%\n"
    }
   }
  },
  {
   "cell_type": "code",
   "execution_count": null,
   "outputs": [],
   "source": [
    "# Save config settings used in run\n",
    "if _USE_WANDB:\n",
    "    save_config_dict(config_dict)\n",
    "    run.save(os.getcwd()+\"wandb/latest-run/files/my_config.txt\")\n",
    "    run.save(os.getcwd()+\"wandb/latest-run/files/requirements.txt\")"
   ],
   "metadata": {
    "collapsed": false,
    "pycharm": {
     "name": "#%%\n"
    }
   }
  }
 ],
 "metadata": {
  "kernelspec": {
   "display_name": "Python 3",
   "language": "python",
   "name": "python3"
  },
  "language_info": {
   "codemirror_mode": {
    "name": "ipython",
    "version": 2
   },
   "file_extension": ".py",
   "mimetype": "text/x-python",
   "name": "python",
   "nbconvert_exporter": "python",
   "pygments_lexer": "ipython2",
   "version": "2.7.6"
  }
 },
 "nbformat": 4,
 "nbformat_minor": 0
}