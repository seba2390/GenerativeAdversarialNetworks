{
 "cells": [
  {
   "cell_type": "code",
   "execution_count": 1,
   "metadata": {
    "collapsed": true,
    "pycharm": {
     "name": "#%%\n"
    }
   },
   "outputs": [],
   "source": [
    "import matplotlib.pyplot as plt\n",
    "import numpy as np\n",
    "from torch.utils.data import DataLoader\n",
    "import torchvision\n",
    "from GenerativeAdversarialNetwork import GenerativeAdversarialNetwork\n",
    "import torch\n",
    "import wandb\n",
    "import os\n",
    "from Util import *\n"
   ]
  },
  {
   "cell_type": "code",
   "execution_count": 2,
   "outputs": [],
   "source": [
    "# N.B. don't apply one-hot encoding on labels - we don't need them (unsupervised learning)\n",
    "# Applying ToTensor() transform to change type(data) to torch.Tensor\n",
    "my_transform_1 = torchvision.transforms.ToTensor()\n",
    "my_transforms = torchvision.transforms.Compose([my_transform_1])\n",
    "\n",
    "# Set download=True first time to acquire dataset\n",
    "_MNIST_DATASET = torchvision.datasets.MNIST(root=\"data/\",\n",
    "                                            download=False,\n",
    "                                            train=True,\n",
    "                                            transform=my_transforms)\n"
   ],
   "metadata": {
    "collapsed": false,
    "pycharm": {
     "name": "#%%\n"
    }
   }
  },
  {
   "cell_type": "code",
   "execution_count": 3,
   "outputs": [],
   "source": [
    "# Picking out numbers from dataset\n",
    "numbers = [9]\n",
    "_MNIST_DATASET.data = _MNIST_DATASET.data[keep_numbers(numbers,_MNIST_DATASET)]\n",
    "_MNIST_DATASET.targets = _MNIST_DATASET.targets[keep_numbers(numbers,_MNIST_DATASET)]\n"
   ],
   "metadata": {
    "collapsed": false,
    "pycharm": {
     "name": "#%%\n"
    }
   }
  },
  {
   "cell_type": "code",
   "execution_count": 4,
   "outputs": [],
   "source": [
    "# Configuration\n",
    "_USE_WANDB = True\n",
    "_DEVICE    = torch.device(\"cuda:0\" if torch.cuda.is_available() else \"cpu\")\n",
    "\n",
    "epochs      = 100\n",
    "batch_size  = 64\n",
    "sample_size = 100    # Number of random values to sample\n",
    "\n",
    "g_lr        = 0.001  # Generator's learning rate\n",
    "d_lr        = 0.001 # Discriminator's learning rate\n",
    "lrs = (d_lr,g_lr)\n",
    "\n",
    "g_betas     = (0.5, 0.999) # 0.9 , 0.999 are adam standard\n",
    "d_betas     = (0.5, 0.999) # 0.9 , 0.999 are adam standard\n",
    "betas       = (d_betas,g_betas)\n",
    "\n",
    "g_wd        = 0.05 # Generator's weight decay\n",
    "d_wd        = 0.05 # Discriminator's weight decay\n",
    "wds = (d_wd,g_wd)\n",
    "\n",
    "label_smooth = 0.1 # real_label=1 --> 1*(1-label_smooth), fake_label=0 --> 0+label_smooth"
   ],
   "metadata": {
    "collapsed": false,
    "pycharm": {
     "name": "#%%\n"
    }
   }
  },
  {
   "cell_type": "code",
   "execution_count": 5,
   "outputs": [
    {
     "name": "stdout",
     "output_type": "stream",
     "text": [
      "Using device:  cpu\n"
     ]
    }
   ],
   "source": [
    "# Setting up dataloader\n",
    "_MNIST_DATALOADER = DataLoader(_MNIST_DATASET,\n",
    "                               batch_size=batch_size,\n",
    "                               drop_last=True)\n",
    "my_net = GenerativeAdversarialNetwork()"
   ],
   "metadata": {
    "collapsed": false,
    "pycharm": {
     "name": "#%%\n"
    }
   }
  },
  {
   "cell_type": "code",
   "execution_count": 6,
   "outputs": [
    {
     "name": "stderr",
     "output_type": "stream",
     "text": [
      "\u001B[34m\u001B[1mwandb\u001B[0m: Currently logged in as: \u001B[33mseba2390\u001B[0m. Use \u001B[1m`wandb login --relogin`\u001B[0m to force relogin\n"
     ]
    },
    {
     "data": {
      "text/plain": "<IPython.core.display.HTML object>",
      "text/html": "Tracking run with wandb version 0.13.4"
     },
     "metadata": {},
     "output_type": "display_data"
    },
    {
     "data": {
      "text/plain": "<IPython.core.display.HTML object>",
      "text/html": "Run data is saved locally in <code>/Users/sebastianyde/Library/CloudStorage/OneDrive-AarhusUniversitet/Århus Universitet/Kandidat/7. semester/Studenterkollokvium/GANS/image generation/DCGAN for MNIST/wandb/run-20221013_141215-1f4gksvu</code>"
     },
     "metadata": {},
     "output_type": "display_data"
    },
    {
     "data": {
      "text/plain": "<IPython.core.display.HTML object>",
      "text/html": "Syncing run <strong><a href=\"https://wandb.ai/seba2390/semi-working%20DCGAN%20for%20MNIST/runs/1f4gksvu\" target=\"_blank\">colorful-forest-5</a></strong> to <a href=\"https://wandb.ai/seba2390/semi-working%20DCGAN%20for%20MNIST\" target=\"_blank\">Weights & Biases</a> (<a href=\"https://wandb.me/run\" target=\"_blank\">docs</a>)<br/>"
     },
     "metadata": {},
     "output_type": "display_data"
    }
   ],
   "source": [
    "config_dict = \\\n",
    "    {\n",
    "    \"Loss function\": \"Binary Cross Entropy\",\n",
    "    \"Optimizer\": \"Adam\",\n",
    "    \"Learning_rates (D, G)\": lrs,\n",
    "    \"Epochs\": epochs,\n",
    "    \"Batch_size\": _MNIST_DATALOADER.batch_size,\n",
    "    \"Weight_decays (D, G)\": wds,\n",
    "    \"D Betas\": betas[0],\n",
    "    \"G Betas\": betas[1],\n",
    "    \"One sided label smoothing\": \"1->1*(1-\"+str(label_smooth)+\")\"+\"and 0->0.0+\"+str(label_smooth),\n",
    "    \"Nr. train data points\": _MNIST_DATASET.__len__(),\n",
    "    \"Note\": \"'Mode collapse' fixed w. normalization in seems to keep happening.\"\n",
    "    }\n",
    "\n",
    "if _USE_WANDB:\n",
    "    run = wandb.init(project=\"semi-working DCGAN for MNIST\",\n",
    "               config=config_dict,\n",
    "               save_code=False,\n",
    "               notes=\"Problems w. mode collapse\",\n",
    "               mode=\"online\")\n",
    "\n",
    "    wandb.watch(my_net)"
   ],
   "metadata": {
    "collapsed": false,
    "pycharm": {
     "name": "#%%\n"
    }
   }
  },
  {
   "cell_type": "code",
   "execution_count": 7,
   "outputs": [
    {
     "name": "stdout",
     "output_type": "stream",
     "text": [
      "Initial map: \n"
     ]
    },
    {
     "data": {
      "text/plain": "<Figure size 1200x500 with 10 Axes>",
      "image/png": "[encoded data removed]"
     },
     "metadata": {},
     "output_type": "display_data"
    }
   ],
   "source": [
    "# Display random datapoint\n",
    "print(\"Initial map: \")\n",
    "rows = 2\n",
    "cols = 5\n",
    "my_net.eval()\n",
    "fig, ax = plt.subplots(rows,cols, figsize= (12,5))\n",
    "for row in range(rows):\n",
    "    for col in range(cols):\n",
    "        Z = torch.rand(size=(1,sample_size),device=_DEVICE)\n",
    "        X_hat = my_net.generator.forward(Z).reshape((28, 28)).cpu().detach().numpy()\n",
    "        ax[row][col].imshow(X_hat, cmap=\"gray\")\n",
    "plt.show()"
   ],
   "metadata": {
    "collapsed": false,
    "pycharm": {
     "name": "#%%\n"
    }
   }
  },
  {
   "cell_type": "code",
   "execution_count": null,
   "outputs": [
    {
     "name": "stderr",
     "output_type": "stream",
     "text": [
      " 68%|██████▊   | 68/100 [10:57<05:08,  9.65s/it]"
     ]
    }
   ],
   "source": [
    "my_net.train()\n",
    "d_loss, g_loss = my_net.train_network(dataloader =_MNIST_DATALOADER, lrs = lrs, wds = wds,\n",
    "                                      epochs = epochs, label_smooth = label_smooth, betas=betas,\n",
    "                                      save_images=False, use_wandb=_USE_WANDB)"
   ],
   "metadata": {
    "collapsed": false,
    "pycharm": {
     "name": "#%%\n",
     "is_executing": true
    }
   }
  },
  {
   "cell_type": "code",
   "execution_count": null,
   "outputs": [],
   "source": [
    "fig, ax = plt.subplots(1,1,figsize=(5,3))\n",
    "epocs = [i for i in range(len(d_loss))]\n",
    "ax.plot(epocs,d_loss,label=\"D loss\")\n",
    "ax.plot(epocs,g_loss,label=\"G loss\")\n",
    "ax.legend()\n",
    "plt.show()"
   ],
   "metadata": {
    "collapsed": false,
    "pycharm": {
     "name": "#%%\n",
     "is_executing": true
    }
   }
  },
  {
   "cell_type": "code",
   "execution_count": null,
   "outputs": [],
   "source": [
    "# Display random datapoint\n",
    "print(\"final map: \")\n",
    "rows = 2\n",
    "cols = 5\n",
    "my_net.eval()\n",
    "fig, ax = plt.subplots(rows,cols, figsize= (12,5))\n",
    "for row in range(rows):\n",
    "    for col in range(cols):\n",
    "        Z = torch.rand(size=(1,sample_size),device=_DEVICE)\n",
    "        X_hat = my_net.generator.forward(Z).reshape((28, 28)).cpu().detach().numpy()\n",
    "        ax[row][col].imshow(X_hat, cmap=\"gray\")\n",
    "plt.show()"
   ],
   "metadata": {
    "collapsed": false,
    "pycharm": {
     "name": "#%%\n",
     "is_executing": true
    }
   }
  },
  {
   "cell_type": "code",
   "execution_count": null,
   "outputs": [],
   "source": [
    "# Deleting all photos\n",
    "import os\n",
    "delete_photos = False\n",
    "if delete_photos:\n",
    "    os.system(\"cd progress_pics && rm *.jpg\")"
   ],
   "metadata": {
    "collapsed": false,
    "pycharm": {
     "name": "#%%\n",
     "is_executing": true
    }
   }
  },
  {
   "cell_type": "code",
   "execution_count": null,
   "outputs": [],
   "source": [
    "# Save config settings used in run\n",
    "if _USE_WANDB:\n",
    "    save_config_dict(config_dict)\n",
    "    run.save(os.getcwd()+\"wandb/latest-run/files/my_config.txt\")\n",
    "    run.save(os.getcwd()+\"wandb/latest-run/files/requirements.txt\")"
   ],
   "metadata": {
    "collapsed": false,
    "pycharm": {
     "name": "#%%\n",
     "is_executing": true
    }
   }
  },
  {
   "cell_type": "code",
   "execution_count": null,
   "outputs": [],
   "source": [],
   "metadata": {
    "collapsed": false,
    "pycharm": {
     "name": "#%%\n",
     "is_executing": true
    }
   }
  }
 ],
 "metadata": {
  "kernelspec": {
   "display_name": "Python 3",
   "language": "python",
   "name": "python3"
  },
  "language_info": {
   "codemirror_mode": {
    "name": "ipython",
    "version": 2
   },
   "file_extension": ".py",
   "mimetype": "text/x-python",
   "name": "python",
   "nbconvert_exporter": "python",
   "pygments_lexer": "ipython2",
   "version": "2.7.6"
  }
 },
 "nbformat": 4,
 "nbformat_minor": 0
}